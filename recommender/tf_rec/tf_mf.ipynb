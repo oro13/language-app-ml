{
 "cells": [
  {
   "cell_type": "markdown",
   "metadata": {},
   "source": [
    "### TF Matrix Factorization"
   ]
  },
  {
   "cell_type": "code",
   "execution_count": 58,
   "metadata": {},
   "outputs": [],
   "source": [
    "import numpy as np\n",
    "import pandas as pd\n",
    "import matplotlib.pyplot as plt\n",
    "\n",
    "import collections\n",
    "import pickle\n",
    "\n",
    "import tensorflow.compat.v1 as tf\n",
    "tf.disable_v2_behavior()\n",
    "tf.logging.set_verbosity(tf.logging.ERROR)\n",
    "\n",
    "from IPython import display"
   ]
  },
  {
   "cell_type": "code",
   "execution_count": 3,
   "metadata": {},
   "outputs": [],
   "source": [
    "\n",
    "#SEE user_activity notebook on generating the data used and changing the params\n",
    "#TODO make into callable function\n",
    "user_activity = pickle.load(open('user_activity.pkl', 'rb'))"
   ]
  },
  {
   "cell_type": "code",
   "execution_count": 20,
   "metadata": {},
   "outputs": [
    {
     "data": {
      "text/html": [
       "<div>\n",
       "<style scoped>\n",
       "    .dataframe tbody tr th:only-of-type {\n",
       "        vertical-align: middle;\n",
       "    }\n",
       "\n",
       "    .dataframe tbody tr th {\n",
       "        vertical-align: top;\n",
       "    }\n",
       "\n",
       "    .dataframe thead th {\n",
       "        text-align: right;\n",
       "    }\n",
       "</style>\n",
       "<table border=\"1\" class=\"dataframe\">\n",
       "  <thead>\n",
       "    <tr style=\"text-align: right;\">\n",
       "      <th></th>\n",
       "      <th>row_idx</th>\n",
       "      <th>col_idx</th>\n",
       "      <th>values</th>\n",
       "    </tr>\n",
       "  </thead>\n",
       "  <tbody>\n",
       "    <tr>\n",
       "      <th>0</th>\n",
       "      <td>0</td>\n",
       "      <td>2</td>\n",
       "      <td>1</td>\n",
       "    </tr>\n",
       "    <tr>\n",
       "      <th>1</th>\n",
       "      <td>0</td>\n",
       "      <td>3</td>\n",
       "      <td>1</td>\n",
       "    </tr>\n",
       "    <tr>\n",
       "      <th>2</th>\n",
       "      <td>0</td>\n",
       "      <td>6</td>\n",
       "      <td>1</td>\n",
       "    </tr>\n",
       "    <tr>\n",
       "      <th>3</th>\n",
       "      <td>0</td>\n",
       "      <td>8</td>\n",
       "      <td>1</td>\n",
       "    </tr>\n",
       "    <tr>\n",
       "      <th>4</th>\n",
       "      <td>0</td>\n",
       "      <td>11</td>\n",
       "      <td>1</td>\n",
       "    </tr>\n",
       "    <tr>\n",
       "      <th>...</th>\n",
       "      <td>...</td>\n",
       "      <td>...</td>\n",
       "      <td>...</td>\n",
       "    </tr>\n",
       "    <tr>\n",
       "      <th>51346</th>\n",
       "      <td>199</td>\n",
       "      <td>495</td>\n",
       "      <td>-1</td>\n",
       "    </tr>\n",
       "    <tr>\n",
       "      <th>51347</th>\n",
       "      <td>199</td>\n",
       "      <td>496</td>\n",
       "      <td>1</td>\n",
       "    </tr>\n",
       "    <tr>\n",
       "      <th>51348</th>\n",
       "      <td>199</td>\n",
       "      <td>497</td>\n",
       "      <td>1</td>\n",
       "    </tr>\n",
       "    <tr>\n",
       "      <th>51349</th>\n",
       "      <td>199</td>\n",
       "      <td>498</td>\n",
       "      <td>1</td>\n",
       "    </tr>\n",
       "    <tr>\n",
       "      <th>51350</th>\n",
       "      <td>199</td>\n",
       "      <td>499</td>\n",
       "      <td>-1</td>\n",
       "    </tr>\n",
       "  </tbody>\n",
       "</table>\n",
       "<p>51351 rows × 3 columns</p>\n",
       "</div>"
      ],
      "text/plain": [
       "       row_idx  col_idx  values\n",
       "0            0        2       1\n",
       "1            0        3       1\n",
       "2            0        6       1\n",
       "3            0        8       1\n",
       "4            0       11       1\n",
       "...        ...      ...     ...\n",
       "51346      199      495      -1\n",
       "51347      199      496       1\n",
       "51348      199      497       1\n",
       "51349      199      498       1\n",
       "51350      199      499      -1\n",
       "\n",
       "[51351 rows x 3 columns]"
      ]
     },
     "execution_count": 20,
     "metadata": {},
     "output_type": "execute_result"
    }
   ],
   "source": [
    "user_activity"
   ]
  },
  {
   "cell_type": "code",
   "execution_count": null,
   "metadata": {},
   "outputs": [],
   "source": [
    "#df = user_activity.rename()"
   ]
  },
  {
   "cell_type": "code",
   "execution_count": 6,
   "metadata": {},
   "outputs": [],
   "source": [
    "num_users = 200\n",
    "num_lessons = 500"
   ]
  },
  {
   "cell_type": "code",
   "execution_count": 23,
   "metadata": {},
   "outputs": [],
   "source": [
    "def build_sparse_tensor(sparse_idx_df, M,N):\n",
    "    \"\"\"\n",
    "    builds a tf sparse matrix of dim number of M by N, eg. Users by Items, when considering ratings, \n",
    "    or lessons by topics when considering topics\n",
    "    \n",
    "    Args:\n",
    "    reviews_df: a pd.DataFrame with `row_idx`, `col_idx` and `values` columns.\n",
    "    Returns:\n",
    "    A tf.SparseTensor representing the reviews matrix.\n",
    "    \"\"\"\n",
    "\n",
    "    indices = sparse_idx_df[['row_idx', 'col_idx']].values\n",
    "    values = sparse_idx_df['values'].values\n",
    "    \n",
    "    return tf.SparseTensor(\n",
    "      indices=indices,\n",
    "      values=values,\n",
    "      dense_shape=[M, N])\n",
    "\n",
    "def sparse_mean_square_error(sparse_reviews, user_embeddings, lesson_embeddings):\n",
    "  \"\"\"\n",
    "  Args:\n",
    "    sparse_reviews: A SparseTensor rating matrix, of dense_shape [N, M]\n",
    "    user_embeddings: A dense Tensor U of shape [N, k] where k is the embedding\n",
    "      dimension, such that U_i is the embedding of user i.\n",
    "    lessons_embeddings: A dense Tensor V of shape [M, k] where k is the embedding\n",
    "      dimension, such that V_j is the embedding of lesson j.\n",
    "  Returns:\n",
    "    A scalar Tensor representing the MSE between the true reviews and the\n",
    "      model's predictions.\n",
    "  \"\"\"\n",
    "  predictions = tf.reduce_sum(\n",
    "      tf.gather(user_embeddings, sparse_reviews.indices[:, 0]) *\n",
    "      tf.gather(lesson_embeddings, sparse_reviews.indices[:, 1]),\n",
    "      axis=1)\n",
    "  loss = tf.losses.mean_squared_error(sparse_reviews.values, predictions)\n",
    "  return loss\n",
    "\n",
    "# @title CFModel helper class (run this cell)\n",
    "class CFModel(object):\n",
    "  \"\"\"Simple class that represents a collaborative filtering model\"\"\"\n",
    "  def __init__(self, embedding_vars, loss, metrics=None):\n",
    "    \"\"\"Initializes a CFModel.\n",
    "    Args:\n",
    "      embedding_vars: A dictionary of tf.Variables.\n",
    "      loss: A float Tensor. The loss to optimize.\n",
    "      metrics: optional list of dictionaries of Tensors. The metrics in each\n",
    "        dictionary will be plotted in a separate figure during training.\n",
    "    \"\"\"\n",
    "    self._embedding_vars = embedding_vars\n",
    "    self._loss = loss\n",
    "    self._metrics = metrics\n",
    "    self._embeddings = {k: None for k in embedding_vars}\n",
    "    self._session = None\n",
    "\n",
    "  @property\n",
    "  def embeddings(self):\n",
    "    \"\"\"The embeddings dictionary.\"\"\"\n",
    "    return self._embeddings\n",
    "\n",
    "  def train(self, num_iterations=100, learning_rate=1.0, plot_results=True,\n",
    "            optimizer=tf.train.GradientDescentOptimizer):\n",
    "    \"\"\"Trains the model.\n",
    "    Args:\n",
    "      iterations: number of iterations to run.\n",
    "      learning_rate: optimizer learning rate.\n",
    "      plot_results: whether to plot the results at the end of training.\n",
    "      optimizer: the optimizer to use. Default to GradientDescentOptimizer.\n",
    "    Returns:\n",
    "      The metrics dictionary evaluated at the last iteration.\n",
    "    \"\"\"\n",
    "    with self._loss.graph.as_default():\n",
    "      opt = optimizer(learning_rate)\n",
    "      train_op = opt.minimize(self._loss)\n",
    "      local_init_op = tf.group(\n",
    "          tf.variables_initializer(opt.variables()),\n",
    "          tf.local_variables_initializer())\n",
    "      if self._session is None:\n",
    "        self._session = tf.Session()\n",
    "        with self._session.as_default():\n",
    "          self._session.run(tf.global_variables_initializer())\n",
    "          self._session.run(tf.tables_initializer())\n",
    "          tf.train.start_queue_runners()\n",
    "\n",
    "    with self._session.as_default():\n",
    "      local_init_op.run()\n",
    "      iterations = []\n",
    "      metrics = self._metrics or ({},)\n",
    "      metrics_vals = [collections.defaultdict(list) for _ in self._metrics]\n",
    "\n",
    "      # Train and append results.\n",
    "      for i in range(num_iterations + 1):\n",
    "        _, results = self._session.run((train_op, metrics))\n",
    "        if (i % 10 == 0) or i == num_iterations:\n",
    "          print(\"\\r iteration %d: \" % i + \", \".join(\n",
    "                [\"%s=%f\" % (k, v) for r in results for k, v in r.items()]),\n",
    "                end='')\n",
    "          iterations.append(i)\n",
    "          for metric_val, result in zip(metrics_vals, results):\n",
    "            for k, v in result.items():\n",
    "              metric_val[k].append(v)\n",
    "\n",
    "      for k, v in self._embedding_vars.items():\n",
    "        self._embeddings[k] = v.eval()\n",
    "\n",
    "      if plot_results:\n",
    "        # Plot the metrics.\n",
    "        num_subplots = len(metrics)+1\n",
    "        fig = plt.figure()\n",
    "        fig.set_size_inches(num_subplots*10, 8)\n",
    "        for i, metric_vals in enumerate(metrics_vals):\n",
    "          ax = fig.add_subplot(1, num_subplots, i+1)\n",
    "          for k, v in metric_vals.items():\n",
    "            ax.plot(iterations, v, label=k)\n",
    "          ax.set_xlim([1, num_iterations])\n",
    "          ax.legend()\n",
    "      return results\n",
    "\n",
    "def build_model(reviews, embedding_dim=3, init_stddev=1.):\n",
    "  \"\"\"\n",
    "  Args:\n",
    "    reviews: a DataFrame of the reviews\n",
    "    embedding_dim: the dimension of the embedding vectors.\n",
    "    init_stddev: float, the standard deviation of the random initial embeddings.\n",
    "  Returns:\n",
    "    model: a CFModel.\n",
    "  \"\"\"\n",
    "  # Split the reviews DataFrame into train and test.\n",
    "  train_reviews, test_reviews = split_dataframe(reviews)\n",
    "  # SparseTensor representation of the train and test datasets.\n",
    "  A_train = build_rating_sparse_tensor(train_reviews)\n",
    "  A_test = build_rating_sparse_tensor(test_reviews)\n",
    "  # Initialize the embeddings using a normal distribution.\n",
    "  U = tf.Variable(tf.random_normal(\n",
    "      [A_train.dense_shape[0], embedding_dim], stddev=init_stddev))\n",
    "  V = tf.Variable(tf.random_normal(\n",
    "      [A_train.dense_shape[1], embedding_dim], stddev=init_stddev))\n",
    "  train_loss = sparse_mean_square_error(A_train, U, V)\n",
    "  test_loss = sparse_mean_square_error(A_test, U, V)\n",
    "  metrics = {\n",
    "      'train_error': train_loss,\n",
    "      'test_error': test_loss\n",
    "  }\n",
    "  embeddings = {\n",
    "      \"user_id\": U,\n",
    "      \"lesson_id\": V\n",
    "  }\n",
    "  return CFModel(embeddings, train_loss, [metrics])\n",
    "\n",
    "# Utility to split the data into training and test sets.\n",
    "def split_dataframe(df, holdout_fraction=0.1):\n",
    "  \"\"\"Splits a DataFrame into training and test sets.\n",
    "  Args:\n",
    "    df: a dataframe.\n",
    "    holdout_fraction: fraction of dataframe rows to use in the test set.\n",
    "  Returns:\n",
    "    train: dataframe for training\n",
    "    test: dataframe for testing\n",
    "  \"\"\"\n",
    "  test = df.sample(frac=holdout_fraction, replace=False)\n",
    "  train = df[~df.index.isin(test.index)]\n",
    "  return train, test\n",
    "\n",
    "def build_rating_sparse_tensor(reviews_df):\n",
    "    \"\"\"\n",
    "    Args:\n",
    "    reviews_df: a pd.DataFrame with `user_id`, `lesson_id` and `rating` columns.\n",
    "    Returns:\n",
    "    A tf.SparseTensor representing the reviews matrix.\n",
    "    \"\"\"\n",
    "\n",
    "#     indices=np.array(list(zip(coo.row, coo.col)))\n",
    "#     values = coo.data\n",
    "    indices = reviews_df[['row_idx', 'col_idx']].values\n",
    "    values = reviews_df['values'].values\n",
    "    \n",
    "    return tf.SparseTensor(\n",
    "      indices=indices,\n",
    "      values=values,\n",
    "      dense_shape=[num_users, num_lessons])"
   ]
  },
  {
   "cell_type": "code",
   "execution_count": 12,
   "metadata": {},
   "outputs": [],
   "source": [
    "tf_sparse_ua = build_sparse_tensor(user_activity, num_users, num_lessons)"
   ]
  },
  {
   "cell_type": "code",
   "execution_count": 11,
   "metadata": {},
   "outputs": [
    {
     "data": {
      "text/plain": [
       "<tensorflow.python.framework.sparse_tensor.SparseTensor at 0x7fdb0c5bb290>"
      ]
     },
     "execution_count": 11,
     "metadata": {},
     "output_type": "execute_result"
    }
   ],
   "source": [
    "tf_sparse_ua"
   ]
  },
  {
   "cell_type": "code",
   "execution_count": 45,
   "metadata": {},
   "outputs": [
    {
     "name": "stdout",
     "output_type": "stream",
     "text": [
      " iteration 5000: train_error=0.356153, test_error=0.521629"
     ]
    },
    {
     "data": {
      "text/plain": [
       "[{'train_error': 0.35615325, 'test_error': 0.5216292}]"
      ]
     },
     "execution_count": 45,
     "metadata": {},
     "output_type": "execute_result"
    },
    {
     "data": {
      "image/png": "[encoded data removed]",
      "text/plain": [
       "<Figure size 1440x576 with 1 Axes>"
      ]
     },
     "metadata": {
      "needs_background": "light"
     },
     "output_type": "display_data"
    }
   ],
   "source": [
    "# Build the CF model and train it.\n",
    "model = build_model(user_activity, embedding_dim=10, init_stddev=0.5)\n",
    "model.train(num_iterations=5000, learning_rate=45)"
   ]
  },
  {
   "cell_type": "code",
   "execution_count": 41,
   "metadata": {},
   "outputs": [
    {
     "data": {
      "text/plain": [
       "0.3640054944640259"
      ]
     },
     "execution_count": 41,
     "metadata": {},
     "output_type": "execute_result"
    }
   ],
   "source": [
    "np.sqrt(.53) / 2"
   ]
  },
  {
   "cell_type": "code",
   "execution_count": 57,
   "metadata": {},
   "outputs": [
    {
     "name": "stdout",
     "output_type": "stream",
     "text": [
      " iteration 5000: train_error=0.354405, test_error=0.538701"
     ]
    },
    {
     "data": {
      "text/plain": [
       "[{'train_error': 0.35440543, 'test_error': 0.538701}]"
      ]
     },
     "execution_count": 57,
     "metadata": {},
     "output_type": "execute_result"
    },
    {
     "data": {
      "image/png": "[encoded data removed]",
      "text/plain": [
       "<Figure size 1440x576 with 1 Axes>"
      ]
     },
     "metadata": {
      "needs_background": "light"
     },
     "output_type": "display_data"
    }
   ],
   "source": [
    "# Build the CF model and train it.\n",
    "model = build_model(user_activity, embedding_dim=10, init_stddev=0.25)\n",
    "model.train(num_iterations=5000, learning_rate=45)"
   ]
  },
  {
   "cell_type": "code",
   "execution_count": 60,
   "metadata": {},
   "outputs": [],
   "source": [
    "DOT = 'dot'\n",
    "COSINE = 'cosine'\n",
    "\n",
    "def compute_scores(query_embedding, item_embeddings, measure=DOT):\n",
    "  \"\"\"Computes the scores of the candidates given a query.\n",
    "  Args:\n",
    "    query_embedding: a vector of shape [k], representing the query embedding.\n",
    "    item_embeddings: a matrix of shape [N, k], such that row i is the embedding\n",
    "      of item i.\n",
    "    measure: a string specifying the similarity measure to be used. Can be\n",
    "      either DOT or COSINE.\n",
    "  Returns:\n",
    "    scores: a vector of shape [N], such that scores[i] is the score of item i.\n",
    "  \"\"\"\n",
    "  u = query_embedding\n",
    "  V = item_embeddings\n",
    "  if measure == COSINE:\n",
    "    V = V / np.linalg.norm(V, axis=1, keepdims=True)\n",
    "    u = u / np.linalg.norm(u)\n",
    "  scores = u.dot(V.T)\n",
    "  return scores\n",
    "\n",
    "def user_recommendations(model, measure=DOT, exclude_rated=False, k=6):\n",
    "  if USER_RATINGS:\n",
    "    scores = compute_scores(\n",
    "        model.embeddings[\"user_id\"][943], model.embeddings[\"lesson_id\"], measure)\n",
    "    score_key = measure + ' score'\n",
    "    df = pd.DataFrame({\n",
    "        score_key: list(scores),\n",
    "        'lesson_id': lessons['lesson_id'],\n",
    "        'titles': lessons['title'],\n",
    "        'genres': lessons['all_genres'],\n",
    "    })\n",
    "    if exclude_rated:\n",
    "      # remove lessons that are already rated\n",
    "      rated_lessons = ratings[ratings.user_id == \"943\"][\"lesson_id\"].values\n",
    "      df = df[df.lesson_id.apply(lambda lesson_id: lesson_id not in rated_lessons)]\n",
    "    display.display(df.sort_values([score_key], ascending=False).head(k))  \n",
    "\n",
    "def lesson_neighbors(model, title_substring, measure=DOT, k=6):\n",
    "  # Search for lesson ids that match the given substring.\n",
    "  ids =  lessons[lessons['title'].str.contains(title_substring)].index.values\n",
    "  titles = lessons.iloc[ids]['title'].values\n",
    "  if len(titles) == 0:\n",
    "    raise ValueError(\"Found no lessons with title %s\" % title_substring)\n",
    "  print(\"Nearest neighbors of : %s.\" % titles[0])\n",
    "  if len(titles) > 1:\n",
    "    print(\"[Found more than one matching lesson. Other candidates: {}]\".format(\n",
    "        \", \".join(titles[1:])))\n",
    "  lesson_id = ids[0]\n",
    "  scores = compute_scores(\n",
    "      model.embeddings[\"lesson_id\"][lesson_id], model.embeddings[\"lesson_id\"],\n",
    "      measure)\n",
    "  score_key = measure + ' score'\n",
    "  df = pd.DataFrame({\n",
    "      score_key: list(scores),\n",
    "      'titles': lessons['title'],\n",
    "      'genres': lessons['all_genres']\n",
    "  })\n",
    "  display.display(df.sort_values([score_key], ascending=False).head(k))"
   ]
  },
  {
   "cell_type": "markdown",
   "metadata": {},
   "source": [
    "TODO: flesh out user_id and lesson_id matrices/'dbs'"
   ]
  },
  {
   "cell_type": "code",
   "execution_count": null,
   "metadata": {},
   "outputs": [],
   "source": []
  }
 ],
 "metadata": {
  "kernelspec": {
   "display_name": "Python 3",
   "language": "python",
   "name": "python3"
  },
  "language_info": {
   "codemirror_mode": {
    "name": "ipython",
    "version": 3
   },
   "file_extension": ".py",
   "mimetype": "text/x-python",
   "name": "python",
   "nbconvert_exporter": "python",
   "pygments_lexer": "ipython3",
   "version": "3.7.7"
  }
 },
 "nbformat": 4,
 "nbformat_minor": 4
}
