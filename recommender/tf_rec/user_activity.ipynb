{
 "cells": [
  {
   "cell_type": "markdown",
   "metadata": {},
   "source": [
    "Generating Data for Prototyping Models\n",
    "\n",
    "Anticipating User Behavior with 'fake' data that has a reliable signal buried underneath.\n",
    "\n"
   ]
  },
  {
   "cell_type": "markdown",
   "metadata": {},
   "source": [
    "generate random number to see what topics user is high in\n",
    "user_1 likes topic 1, 7, 14\n",
    "\n",
    "lesson_1 is high in topic 7\n",
    "\n",
    "roll random bernouilli ~ .8 chance they like\n",
    "if they dont like topic x ~ .2\n",
    "\n",
    "generate user activity that way\n",
    "\n",
    "\n",
    "any lessons in that topic, they would like"
   ]
  },
  {
   "cell_type": "code",
   "execution_count": 24,
   "metadata": {},
   "outputs": [],
   "source": [
    "import numpy as np\n",
    "import pickle\n",
    "import pandas as pd\n",
    "\n",
    "import tensorflow.compat.v1 as tf\n",
    "tf.disable_v2_behavior()\n",
    "tf.logging.set_verbosity(tf.logging.ERROR)"
   ]
  },
  {
   "cell_type": "code",
   "execution_count": 10,
   "metadata": {},
   "outputs": [
    {
     "data": {
      "text/plain": [
       "array([ 2,  3,  9,  9, 14])"
      ]
     },
     "execution_count": 10,
     "metadata": {},
     "output_type": "execute_result"
    }
   ],
   "source": [
    "\"\"\"\n",
    "generates user_interest, users_ratings_activity based on topics of interest\n",
    "outputs\n",
    "user_activty sparse matrix\n",
    "\n",
    "user_id, lesson_id,\n",
    "\"\"\"\n",
    "\n",
    "#random_num1 - number of topics of interest (15)\n",
    "n_topics = np.random.randint(15)\n",
    "\n",
    "topics_of_interest = []\n",
    "user_ids = []\n",
    "for _ in range(n_topics):\n",
    "    topic = np.random.randint(15)\n",
    "    topics_of_interest.append(topic)\n",
    "    \n",
    "for topic in topics_of_interest.sorted():\n",
    "    \n",
    "    \n",
    "sorted_topics.append(np.sort(topics_of_interest)) #could be empty\n",
    "\n"
   ]
  },
  {
   "cell_type": "code",
   "execution_count": 38,
   "metadata": {},
   "outputs": [],
   "source": [
    "latent_topics = pickle.load(open('../tf_topic_modeling/latent_topics_list.pkl', 'rb'))"
   ]
  },
  {
   "cell_type": "code",
   "execution_count": 36,
   "metadata": {},
   "outputs": [],
   "source": [
    "def gen_user_interest():\n",
    "    topic_interests = []\n",
    "    for i in range(15):\n",
    "        topic_interests.append(np.random.rand()) #random number between 0 and 1\n",
    "    return np.array(topic_interests)\n",
    "\n",
    "def gen_users_interest_matrix(num_users=200):\n",
    "    users = []\n",
    "\n",
    "    for i in range(num_users):\n",
    "        users.append(gen_user_interest())\n",
    "        \n",
    "    return np.array(users)\n",
    "\n",
    "user_interest = gen_users_interest_matrix()"
   ]
  },
  {
   "cell_type": "code",
   "execution_count": null,
   "metadata": {},
   "outputs": [],
   "source": [
    "def gen_user_output(user_interests, lesson_topics, thumbsdown=False):\n",
    "    \"\"\"\n",
    "    input the latent_topics\n",
    "    \n",
    "    outputs according to a users interest, probabilistically decides if they like or dislike the lesson\n",
    "    \n",
    "    thumbsdown?\n",
    "    \"\"\"\n",
    "    \n",
    "    if thumbsdown:\n",
    "        pass\n",
    "    \n",
    "    #look at user topics of interest\n",
    "    #look at lesson topics\n",
    "    \n",
    "    for topic in lesson_topics:\n",
    "        topic_interest = np.random.rand() #random number between 0 and 1\n",
    "        if topic > topic_interest:\n",
    "            like = np.random.binomial(1, .8)\n",
    "        #chance of dislike\n",
    "gen_user_output(latent_topics_list)"
   ]
  },
  {
   "cell_type": "code",
   "execution_count": 37,
   "metadata": {},
   "outputs": [
    {
     "data": {
      "text/plain": [
       "array([0.32859323, 0.57795331, 0.77615777, 0.30926476, 0.37837738,\n",
       "       0.32734671, 0.57518106, 0.56056375, 0.20918794, 0.42307463,\n",
       "       0.66688183, 0.49578397, 0.61402869, 0.5211178 , 0.47121005])"
      ]
     },
     "execution_count": 37,
     "metadata": {},
     "output_type": "execute_result"
    }
   ],
   "source": [
    "user_interest[0]"
   ]
  },
  {
   "cell_type": "code",
   "execution_count": 40,
   "metadata": {},
   "outputs": [
    {
     "data": {
      "text/plain": [
       "[(7, 0.22311877), (11, 0.016061254), (12, 0.7606168)]"
      ]
     },
     "execution_count": 40,
     "metadata": {},
     "output_type": "execute_result"
    }
   ],
   "source": [
    "latent_topics[0]"
   ]
  },
  {
   "cell_type": "code",
   "execution_count": 74,
   "metadata": {},
   "outputs": [
    {
     "data": {
      "text/plain": [
       "0"
      ]
     },
     "execution_count": 74,
     "metadata": {},
     "output_type": "execute_result"
    }
   ],
   "source": [
    "result = [1,-1,0]\n",
    "max(set(result), key=result.count)"
   ]
  },
  {
   "cell_type": "code",
   "execution_count": 109,
   "metadata": {},
   "outputs": [],
   "source": [
    "def gen_user_output(user_interests, lesson_topics):#, thumbsdown=False):\n",
    "\n",
    "    users = []\n",
    "    for user in user_interest:\n",
    "        lst = []\n",
    "        activity_level = np.random.random()\n",
    "        for lesson in lesson_topics:\n",
    "            \n",
    "            if np.random.binomial(1, activity_level): #chance they havent seen lesson\n",
    "                lst.append(0)\n",
    "            else:\n",
    "                lesson_result = []\n",
    "                for idx, topic in lesson:\n",
    "                    if user[idx] > 0.5:\n",
    "                        if np.random.binomial(1, .8):\n",
    "                            lesson_result.append(1)\n",
    "                    elif user[idx] < 0.5: #chance they dislike it\n",
    "                        dislike = np.random.binomial(1, .8)\n",
    "                        if dislike > 0.5:\n",
    "                            lesson_result.append(-1)\n",
    "                    else:\n",
    "                        lesson_result.append(0)\n",
    "                #print(lesson_result)\n",
    "                if lesson_result:\n",
    "                    vote = max(set(lesson_result), key=lesson_result.count)\n",
    "                else:\n",
    "                    vote = 0\n",
    "                lst.append(vote)\n",
    "        users.append(lst)\n",
    "    return np.array(users)\n",
    "\n",
    "    "
   ]
  },
  {
   "cell_type": "code",
   "execution_count": 110,
   "metadata": {},
   "outputs": [],
   "source": [
    "user_activity = gen_user_output(user_interest, latent_topics)"
   ]
  },
  {
   "cell_type": "code",
   "execution_count": 111,
   "metadata": {},
   "outputs": [
    {
     "data": {
      "text/plain": [
       "(200, 500)"
      ]
     },
     "execution_count": 111,
     "metadata": {},
     "output_type": "execute_result"
    }
   ],
   "source": [
    "user_activity.shape #200 users, 500 lessons"
   ]
  },
  {
   "cell_type": "markdown",
   "metadata": {},
   "source": [
    "make dataframe of user activity"
   ]
  },
  {
   "cell_type": "code",
   "execution_count": 120,
   "metadata": {},
   "outputs": [],
   "source": [
    "from scipy.sparse import csr_matrix,coo_matrix"
   ]
  },
  {
   "cell_type": "code",
   "execution_count": 127,
   "metadata": {},
   "outputs": [],
   "source": [
    "#print(csr_matrix(user_activity))\n",
    "\n",
    "row_idx = coo_matrix(user_activity).row\n",
    "col_idx = coo_matrix(user_activity).col\n",
    "values = coo_matrix(user_activity).data"
   ]
  },
  {
   "cell_type": "code",
   "execution_count": 139,
   "metadata": {},
   "outputs": [
    {
     "data": {
      "text/html": [
       "<div>\n",
       "<style scoped>\n",
       "    .dataframe tbody tr th:only-of-type {\n",
       "        vertical-align: middle;\n",
       "    }\n",
       "\n",
       "    .dataframe tbody tr th {\n",
       "        vertical-align: top;\n",
       "    }\n",
       "\n",
       "    .dataframe thead th {\n",
       "        text-align: right;\n",
       "    }\n",
       "</style>\n",
       "<table border=\"1\" class=\"dataframe\">\n",
       "  <thead>\n",
       "    <tr style=\"text-align: right;\">\n",
       "      <th></th>\n",
       "      <th>row_idx</th>\n",
       "      <th>col_idx</th>\n",
       "      <th>values</th>\n",
       "    </tr>\n",
       "  </thead>\n",
       "  <tbody>\n",
       "    <tr>\n",
       "      <th>0</th>\n",
       "      <td>0</td>\n",
       "      <td>2</td>\n",
       "      <td>1</td>\n",
       "    </tr>\n",
       "    <tr>\n",
       "      <th>1</th>\n",
       "      <td>0</td>\n",
       "      <td>3</td>\n",
       "      <td>1</td>\n",
       "    </tr>\n",
       "    <tr>\n",
       "      <th>2</th>\n",
       "      <td>0</td>\n",
       "      <td>6</td>\n",
       "      <td>1</td>\n",
       "    </tr>\n",
       "    <tr>\n",
       "      <th>3</th>\n",
       "      <td>0</td>\n",
       "      <td>8</td>\n",
       "      <td>1</td>\n",
       "    </tr>\n",
       "    <tr>\n",
       "      <th>4</th>\n",
       "      <td>0</td>\n",
       "      <td>11</td>\n",
       "      <td>1</td>\n",
       "    </tr>\n",
       "    <tr>\n",
       "      <th>...</th>\n",
       "      <td>...</td>\n",
       "      <td>...</td>\n",
       "      <td>...</td>\n",
       "    </tr>\n",
       "    <tr>\n",
       "      <th>51346</th>\n",
       "      <td>199</td>\n",
       "      <td>495</td>\n",
       "      <td>-1</td>\n",
       "    </tr>\n",
       "    <tr>\n",
       "      <th>51347</th>\n",
       "      <td>199</td>\n",
       "      <td>496</td>\n",
       "      <td>1</td>\n",
       "    </tr>\n",
       "    <tr>\n",
       "      <th>51348</th>\n",
       "      <td>199</td>\n",
       "      <td>497</td>\n",
       "      <td>1</td>\n",
       "    </tr>\n",
       "    <tr>\n",
       "      <th>51349</th>\n",
       "      <td>199</td>\n",
       "      <td>498</td>\n",
       "      <td>1</td>\n",
       "    </tr>\n",
       "    <tr>\n",
       "      <th>51350</th>\n",
       "      <td>199</td>\n",
       "      <td>499</td>\n",
       "      <td>-1</td>\n",
       "    </tr>\n",
       "  </tbody>\n",
       "</table>\n",
       "<p>51351 rows × 3 columns</p>\n",
       "</div>"
      ],
      "text/plain": [
       "       row_idx  col_idx  values\n",
       "0            0        2       1\n",
       "1            0        3       1\n",
       "2            0        6       1\n",
       "3            0        8       1\n",
       "4            0       11       1\n",
       "...        ...      ...     ...\n",
       "51346      199      495      -1\n",
       "51347      199      496       1\n",
       "51348      199      497       1\n",
       "51349      199      498       1\n",
       "51350      199      499      -1\n",
       "\n",
       "[51351 rows x 3 columns]"
      ]
     },
     "execution_count": 139,
     "metadata": {},
     "output_type": "execute_result"
    }
   ],
   "source": [
    "sid = pd.DataFrame(np.array([row_idx, col_idx, values]).T, columns=['row_idx', 'col_idx', 'values'])\n",
    "sid"
   ]
  },
  {
   "cell_type": "code",
   "execution_count": 141,
   "metadata": {},
   "outputs": [],
   "source": [
    "pickle.dump(sid, open('user_activity.pkl', 'wb'))"
   ]
  },
  {
   "cell_type": "code",
   "execution_count": 143,
   "metadata": {},
   "outputs": [
    {
     "data": {
      "text/plain": [
       "51351"
      ]
     },
     "execution_count": 143,
     "metadata": {},
     "output_type": "execute_result"
    }
   ],
   "source": [
    "N"
   ]
  },
  {
   "cell_type": "code",
   "execution_count": 138,
   "metadata": {},
   "outputs": [
    {
     "data": {
      "text/plain": [
       "<tensorflow.python.framework.sparse_tensor.SparseTensor at 0x7f85137d2790>"
      ]
     },
     "execution_count": 138,
     "metadata": {},
     "output_type": "execute_result"
    }
   ],
   "source": [
    "STFM"
   ]
  },
  {
   "cell_type": "code",
   "execution_count": null,
   "metadata": {},
   "outputs": [],
   "source": []
  }
 ],
 "metadata": {
  "kernelspec": {
   "display_name": "Python 3",
   "language": "python",
   "name": "python3"
  },
  "language_info": {
   "codemirror_mode": {
    "name": "ipython",
    "version": 3
   },
   "file_extension": ".py",
   "mimetype": "text/x-python",
   "name": "python",
   "nbconvert_exporter": "python",
   "pygments_lexer": "ipython3",
   "version": "3.7.7"
  }
 },
 "nbformat": 4,
 "nbformat_minor": 4
}
