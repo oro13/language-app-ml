{
 "cells": [
  {
   "cell_type": "markdown",
   "metadata": {},
   "source": [
    "overview:\n",
    "\n",
    "recommendation systems consist of 3 key stages:\n",
    "\n",
    "    1. item candidate generation\n",
    "    2. user specific scoring of items\n",
    "    3. reranking, or sorting the items based on relevance to the user\n",
    "\n",
    "recommender pipeline:\n",
    "\n",
    "\n",
    "- user 1 (uploader) uploads lesson\n",
    "- topic model lesson content according to large word2vec embedding matrix\n",
    "    - 'projector' visualization of topic model (explain how neighbors are calculated for topics)\n",
    "        - https://projector.tensorflow.org/\n",
    "    - explain advantages of using word embedding to find latent topics, vs first attempt with LDA\n",
    "- store tags with lesson\n",
    "    - show how 2 lessons are considered similar vs 2 that are considered different based on score/latent topics\n",
    "- user 2 (learner), opens the home screen, prompting a query\n",
    "- candidate items lessons are prompted (double check position)\n",
    "    - dnn that takes into account user activity likes/dislikes AND the corresponding lesson tags (latent topics + uploader gen tags), in different layers\n",
    "    - possible other models that filter out spam/clickbait/offensive content\n",
    "- candidate items are ranked on a common scale, taking their different scoring metrics into account\n",
    "- items are reordered according to this rank\n",
    "\n",
    "- rerun models every so often to include recent user activity, promotes freshness, diversity of content\n",
    "    - use warm start to avoid retraining entirely (eg for matrix factorization warm start the previously seen embeddings)\n",
    "- optimize recommender by including different input information such as geographical/demographic info to ensure users see fresh content on new topics\n",
    "\n",
    "App specific considerations:\n",
    "- unveil certain supported languages gradually, after enough quality content has been contributed during an 'alpha' testing period\n",
    "- watch for fairness metrics concerning latent biases in content and recommendations, particularly in languages from areas with ethnic conflict, hegemonic power struggles/propaganda, etc\n",
    "- seek expert advice\n",
    "- make models specifically for 'average users' of different clusters, \n",
    "    - consider demographics and observe quality of recommendation\n",
    "- include content from underrespresented groups in corpus so low volume deters it from being considered"
   ]
  },
  {
   "cell_type": "markdown",
   "metadata": {},
   "source": [
    "Questions I'm walking away with:\n",
    "\n",
    "Offline embedding matrix, warm start subsampling\n",
    "\n",
    "lda2vec plus word2vec\n",
    "\n",
    "\n",
    "querying for recommendations best practices\n",
    "candidate generation, user specific scoring in efficient time, reranking\n",
    "\n",
    "when to rerun the model\n",
    "\n"
   ]
  },
  {
   "cell_type": "code",
   "execution_count": null,
   "metadata": {},
   "outputs": [],
   "source": []
  }
 ],
 "metadata": {
  "kernelspec": {
   "display_name": "Python 3",
   "language": "python",
   "name": "python3"
  },
  "language_info": {
   "codemirror_mode": {
    "name": "ipython",
    "version": 3
   },
   "file_extension": ".py",
   "mimetype": "text/x-python",
   "name": "python",
   "nbconvert_exporter": "python",
   "pygments_lexer": "ipython3",
   "version": "3.7.7"
  }
 },
 "nbformat": 4,
 "nbformat_minor": 4
}
